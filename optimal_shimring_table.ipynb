{
 "cells": [
  {
   "cell_type": "markdown",
   "metadata": {},
   "source": [
    "### 必要モジュールの読み込み\n"
   ]
  },
  {
   "cell_type": "code",
   "execution_count": 24,
   "metadata": {},
   "outputs": [],
   "source": [
    "import itertools\n",
    "import numpy as np\n",
    "import pandas as pd"
   ]
  },
  {
   "cell_type": "markdown",
   "metadata": {},
   "source": [
    "### パラメータ設定\n"
   ]
  },
  {
   "cell_type": "code",
   "execution_count": 25,
   "metadata": {},
   "outputs": [],
   "source": [
    "shimring = [0.03, 0.05]  # 使用するシムリング厚さ [mm]\n",
    "min_mismatch = 0.000  # 高さ寸法相互差の最小値 [mm]\n",
    "max_mismatch = 0.190  # 高さ寸法相互差の最大値 [mm]\n",
    "res_mismatch = 0.001  # 高さ寸法相互差の測定分解能 [mm]\n",
    "tolerance = 0.015  # 高さ寸法相互差の許容値 [mm]\n",
    "max_num = 10  # シムリングの最大使用枚数 [-]"
   ]
  },
  {
   "cell_type": "markdown",
   "metadata": {},
   "source": [
    "### 最適なシムリングの枚数を求める\n"
   ]
  },
  {
   "cell_type": "code",
   "execution_count": 26,
   "metadata": {},
   "outputs": [],
   "source": [
    "# 高さ寸法相互差のリストを作成する\n",
    "def get_optimal_shimring_combination(shimring, mismatch, tolerance, max_num):\n",
    "    # シムリングの取りうる組み合わせを作成する\n",
    "    possible_combinations = []\n",
    "    for c in itertools.product(range(max_num + 1), repeat=len(shimring)):\n",
    "        if sum(c) <= max_num:\n",
    "            possible_combinations.append(c)\n",
    "\n",
    "    # 有効なシムリングの組み合わせを抽出する\n",
    "    valid_combinations = []\n",
    "    for combination in possible_combinations:\n",
    "        # シムリングの合計厚さ\n",
    "        total_thickness = np.dot(combination, shimring)\n",
    "\n",
    "        # シムリング挿入後の高さ寸法相互差\n",
    "        modified_mismatch = mismatch - total_thickness\n",
    "\n",
    "        # 高さ寸法相互差が許容範囲内のものを抽出\n",
    "        if -tolerance <= modified_mismatch <= tolerance:\n",
    "            valid_combinations.append(combination)\n",
    "\n",
    "    # 最適なシムリングの組み合わせを抽出する\n",
    "    optimal_combination = min(valid_combinations)\n",
    "\n",
    "    return optimal_combination"
   ]
  },
  {
   "cell_type": "code",
   "execution_count": 27,
   "metadata": {},
   "outputs": [
    {
     "data": {
      "text/html": [
       "<div>\n",
       "<style scoped>\n",
       "    .dataframe tbody tr th:only-of-type {\n",
       "        vertical-align: middle;\n",
       "    }\n",
       "\n",
       "    .dataframe tbody tr th {\n",
       "        vertical-align: top;\n",
       "    }\n",
       "\n",
       "    .dataframe thead th {\n",
       "        text-align: right;\n",
       "    }\n",
       "</style>\n",
       "<table border=\"1\" class=\"dataframe\">\n",
       "  <thead>\n",
       "    <tr style=\"text-align: right;\">\n",
       "      <th></th>\n",
       "      <th>mismatch</th>\n",
       "      <th>t0.03</th>\n",
       "      <th>t0.05</th>\n",
       "      <th>num_shimring</th>\n",
       "      <th>modified_mismatch</th>\n",
       "    </tr>\n",
       "  </thead>\n",
       "  <tbody>\n",
       "  </tbody>\n",
       "</table>\n",
       "</div>"
      ],
      "text/plain": [
       "Empty DataFrame\n",
       "Columns: [mismatch, t0.03, t0.05, num_shimring, modified_mismatch]\n",
       "Index: []"
      ]
     },
     "execution_count": 27,
     "metadata": {},
     "output_type": "execute_result"
    }
   ],
   "source": [
    "# 結果を保存するためのデータフレームを作成する\n",
    "columns = (\n",
    "    [\"mismatch\"]\n",
    "    + [f\"t{shimring[i]}\" for i in range(len(shimring))]\n",
    "    + [\"num_shimring\", \"modified_mismatch\"]\n",
    ")\n",
    "df_result = pd.DataFrame([], columns=columns)\n",
    "\n",
    "df_result"
   ]
  },
  {
   "cell_type": "code",
   "execution_count": 28,
   "metadata": {},
   "outputs": [
    {
     "data": {
      "text/html": [
       "<div>\n",
       "<style scoped>\n",
       "    .dataframe tbody tr th:only-of-type {\n",
       "        vertical-align: middle;\n",
       "    }\n",
       "\n",
       "    .dataframe tbody tr th {\n",
       "        vertical-align: top;\n",
       "    }\n",
       "\n",
       "    .dataframe thead th {\n",
       "        text-align: right;\n",
       "    }\n",
       "</style>\n",
       "<table border=\"1\" class=\"dataframe\">\n",
       "  <thead>\n",
       "    <tr style=\"text-align: right;\">\n",
       "      <th></th>\n",
       "      <th>mismatch</th>\n",
       "      <th>t0.03</th>\n",
       "      <th>t0.05</th>\n",
       "      <th>num_shimring</th>\n",
       "      <th>modified_mismatch</th>\n",
       "    </tr>\n",
       "  </thead>\n",
       "  <tbody>\n",
       "    <tr>\n",
       "      <th>0</th>\n",
       "      <td>0.000</td>\n",
       "      <td>0.0</td>\n",
       "      <td>0.0</td>\n",
       "      <td>0.0</td>\n",
       "      <td>0.000</td>\n",
       "    </tr>\n",
       "    <tr>\n",
       "      <th>1</th>\n",
       "      <td>0.001</td>\n",
       "      <td>0.0</td>\n",
       "      <td>0.0</td>\n",
       "      <td>0.0</td>\n",
       "      <td>0.001</td>\n",
       "    </tr>\n",
       "    <tr>\n",
       "      <th>2</th>\n",
       "      <td>0.002</td>\n",
       "      <td>0.0</td>\n",
       "      <td>0.0</td>\n",
       "      <td>0.0</td>\n",
       "      <td>0.002</td>\n",
       "    </tr>\n",
       "    <tr>\n",
       "      <th>3</th>\n",
       "      <td>0.003</td>\n",
       "      <td>0.0</td>\n",
       "      <td>0.0</td>\n",
       "      <td>0.0</td>\n",
       "      <td>0.003</td>\n",
       "    </tr>\n",
       "    <tr>\n",
       "      <th>4</th>\n",
       "      <td>0.004</td>\n",
       "      <td>0.0</td>\n",
       "      <td>0.0</td>\n",
       "      <td>0.0</td>\n",
       "      <td>0.004</td>\n",
       "    </tr>\n",
       "    <tr>\n",
       "      <th>...</th>\n",
       "      <td>...</td>\n",
       "      <td>...</td>\n",
       "      <td>...</td>\n",
       "      <td>...</td>\n",
       "      <td>...</td>\n",
       "    </tr>\n",
       "    <tr>\n",
       "      <th>186</th>\n",
       "      <td>0.186</td>\n",
       "      <td>0.0</td>\n",
       "      <td>4.0</td>\n",
       "      <td>4.0</td>\n",
       "      <td>-0.014</td>\n",
       "    </tr>\n",
       "    <tr>\n",
       "      <th>187</th>\n",
       "      <td>0.187</td>\n",
       "      <td>0.0</td>\n",
       "      <td>4.0</td>\n",
       "      <td>4.0</td>\n",
       "      <td>-0.013</td>\n",
       "    </tr>\n",
       "    <tr>\n",
       "      <th>188</th>\n",
       "      <td>0.188</td>\n",
       "      <td>0.0</td>\n",
       "      <td>4.0</td>\n",
       "      <td>4.0</td>\n",
       "      <td>-0.012</td>\n",
       "    </tr>\n",
       "    <tr>\n",
       "      <th>189</th>\n",
       "      <td>0.189</td>\n",
       "      <td>0.0</td>\n",
       "      <td>4.0</td>\n",
       "      <td>4.0</td>\n",
       "      <td>-0.011</td>\n",
       "    </tr>\n",
       "    <tr>\n",
       "      <th>190</th>\n",
       "      <td>0.190</td>\n",
       "      <td>0.0</td>\n",
       "      <td>4.0</td>\n",
       "      <td>4.0</td>\n",
       "      <td>-0.010</td>\n",
       "    </tr>\n",
       "  </tbody>\n",
       "</table>\n",
       "<p>191 rows × 5 columns</p>\n",
       "</div>"
      ],
      "text/plain": [
       "     mismatch  t0.03  t0.05  num_shimring  modified_mismatch\n",
       "0       0.000    0.0    0.0           0.0              0.000\n",
       "1       0.001    0.0    0.0           0.0              0.001\n",
       "2       0.002    0.0    0.0           0.0              0.002\n",
       "3       0.003    0.0    0.0           0.0              0.003\n",
       "4       0.004    0.0    0.0           0.0              0.004\n",
       "..        ...    ...    ...           ...                ...\n",
       "186     0.186    0.0    4.0           4.0             -0.014\n",
       "187     0.187    0.0    4.0           4.0             -0.013\n",
       "188     0.188    0.0    4.0           4.0             -0.012\n",
       "189     0.189    0.0    4.0           4.0             -0.011\n",
       "190     0.190    0.0    4.0           4.0             -0.010\n",
       "\n",
       "[191 rows x 5 columns]"
      ]
     },
     "execution_count": 28,
     "metadata": {},
     "output_type": "execute_result"
    }
   ],
   "source": [
    "# 結果をデータフレームに保存する\n",
    "mismatch_list = np.arange(min_mismatch, max_mismatch + res_mismatch, res_mismatch)\n",
    "for line_number, mismatch in enumerate(mismatch_list):\n",
    "    # 最適なシムリングの組み合わせを求める\n",
    "    optimal_combination = get_optimal_shimring_combination(\n",
    "        shimring, mismatch, tolerance, max_num\n",
    "    )\n",
    "\n",
    "    # 結果を保存する\n",
    "    total_thickness = np.dot(optimal_combination, shimring)\n",
    "    df_result.loc[line_number] = [\n",
    "        mismatch,\n",
    "        *optimal_combination,\n",
    "        sum(optimal_combination),\n",
    "        mismatch - total_thickness,  # modified_mismatch\n",
    "    ]\n",
    "\n",
    "df_result"
   ]
  },
  {
   "cell_type": "code",
   "execution_count": 29,
   "metadata": {},
   "outputs": [],
   "source": [
    "# 結果をEXCELに保存\n",
    "df_result.to_excel(\"結果.xlsx\", index=False)"
   ]
  }
 ],
 "metadata": {
  "kernelspec": {
   "display_name": "Python 3",
   "language": "python",
   "name": "python3"
  },
  "language_info": {
   "codemirror_mode": {
    "name": "ipython",
    "version": 3
   },
   "file_extension": ".py",
   "mimetype": "text/x-python",
   "name": "python",
   "nbconvert_exporter": "python",
   "pygments_lexer": "ipython3",
   "version": "3.10.11"
  }
 },
 "nbformat": 4,
 "nbformat_minor": 2
}
